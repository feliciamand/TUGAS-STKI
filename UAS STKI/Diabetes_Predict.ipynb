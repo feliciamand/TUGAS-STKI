{
 "cells": [
  {
   "cell_type": "code",
   "execution_count": 64,
   "metadata": {
    "id": "ph_4ivec4pf-"
   },
   "outputs": [],
   "source": [
    "import pandas as pd\n",
    "import numpy as np\n",
    "import pickle\n",
    "from sklearn.model_selection import train_test_split, StratifiedKFold\n",
    "from sklearn.neural_network import MLPClassifier\n",
    "from sklearn.metrics import accuracy_score, precision_score, recall_score, f1_score, confusion_matrix"
   ]
  },
  {
   "cell_type": "code",
   "execution_count": 65,
   "metadata": {
    "id": "B2M4Skfa4vB_"
   },
   "outputs": [],
   "source": [
    "# Memuat dataset\n",
    "data = pd.read_csv('diabetes_prediction_dataset.csv')"
   ]
  },
  {
   "cell_type": "code",
   "execution_count": 66,
   "metadata": {
    "colab": {
     "base_uri": "https://localhost:8080/",
     "height": 331
    },
    "id": "mkxMEK8j5E6o",
    "outputId": "8b6d83ed-b934-4bc9-8370-96cb8fabf772"
   },
   "outputs": [
    {
     "data": {
      "text/html": [
       "<div>\n",
       "<style scoped>\n",
       "    .dataframe tbody tr th:only-of-type {\n",
       "        vertical-align: middle;\n",
       "    }\n",
       "\n",
       "    .dataframe tbody tr th {\n",
       "        vertical-align: top;\n",
       "    }\n",
       "\n",
       "    .dataframe thead th {\n",
       "        text-align: right;\n",
       "    }\n",
       "</style>\n",
       "<table border=\"1\" class=\"dataframe\">\n",
       "  <thead>\n",
       "    <tr style=\"text-align: right;\">\n",
       "      <th></th>\n",
       "      <th>0</th>\n",
       "      <th>1</th>\n",
       "      <th>2</th>\n",
       "      <th>3</th>\n",
       "      <th>4</th>\n",
       "    </tr>\n",
       "  </thead>\n",
       "  <tbody>\n",
       "    <tr>\n",
       "      <th>gender</th>\n",
       "      <td>Female</td>\n",
       "      <td>Female</td>\n",
       "      <td>Male</td>\n",
       "      <td>Female</td>\n",
       "      <td>Male</td>\n",
       "    </tr>\n",
       "    <tr>\n",
       "      <th>age</th>\n",
       "      <td>80.0</td>\n",
       "      <td>54.0</td>\n",
       "      <td>28.0</td>\n",
       "      <td>36.0</td>\n",
       "      <td>76.0</td>\n",
       "    </tr>\n",
       "    <tr>\n",
       "      <th>hypertension</th>\n",
       "      <td>0</td>\n",
       "      <td>0</td>\n",
       "      <td>0</td>\n",
       "      <td>0</td>\n",
       "      <td>1</td>\n",
       "    </tr>\n",
       "    <tr>\n",
       "      <th>heart_disease</th>\n",
       "      <td>1</td>\n",
       "      <td>0</td>\n",
       "      <td>0</td>\n",
       "      <td>0</td>\n",
       "      <td>1</td>\n",
       "    </tr>\n",
       "    <tr>\n",
       "      <th>smoking_history</th>\n",
       "      <td>never</td>\n",
       "      <td>No Info</td>\n",
       "      <td>never</td>\n",
       "      <td>current</td>\n",
       "      <td>current</td>\n",
       "    </tr>\n",
       "    <tr>\n",
       "      <th>bmi</th>\n",
       "      <td>25.19</td>\n",
       "      <td>27.32</td>\n",
       "      <td>27.32</td>\n",
       "      <td>23.45</td>\n",
       "      <td>20.14</td>\n",
       "    </tr>\n",
       "    <tr>\n",
       "      <th>HbA1c_level</th>\n",
       "      <td>6.6</td>\n",
       "      <td>6.6</td>\n",
       "      <td>5.7</td>\n",
       "      <td>5.0</td>\n",
       "      <td>4.8</td>\n",
       "    </tr>\n",
       "    <tr>\n",
       "      <th>blood_glucose_level</th>\n",
       "      <td>140</td>\n",
       "      <td>80</td>\n",
       "      <td>158</td>\n",
       "      <td>155</td>\n",
       "      <td>155</td>\n",
       "    </tr>\n",
       "    <tr>\n",
       "      <th>diabetes</th>\n",
       "      <td>0</td>\n",
       "      <td>0</td>\n",
       "      <td>0</td>\n",
       "      <td>0</td>\n",
       "      <td>0</td>\n",
       "    </tr>\n",
       "  </tbody>\n",
       "</table>\n",
       "</div>"
      ],
      "text/plain": [
       "                          0        1      2        3        4\n",
       "gender               Female   Female   Male   Female     Male\n",
       "age                    80.0     54.0   28.0     36.0     76.0\n",
       "hypertension              0        0      0        0        1\n",
       "heart_disease             1        0      0        0        1\n",
       "smoking_history       never  No Info  never  current  current\n",
       "bmi                   25.19    27.32  27.32    23.45    20.14\n",
       "HbA1c_level             6.6      6.6    5.7      5.0      4.8\n",
       "blood_glucose_level     140       80    158      155      155\n",
       "diabetes                  0        0      0        0        0"
      ]
     },
     "execution_count": 66,
     "metadata": {},
     "output_type": "execute_result"
    }
   ],
   "source": [
    "# Melihat beberapa baris pertama dari dataset\n",
    "data.head(5).T"
   ]
  },
  {
   "cell_type": "code",
   "execution_count": 67,
   "metadata": {
    "colab": {
     "base_uri": "https://localhost:8080/",
     "height": 0
    },
    "id": "6cuOXOJYAGNc",
    "outputId": "a4f0a50d-1b3b-4d40-ef35-7d3355ea2f89"
   },
   "outputs": [
    {
     "data": {
      "text/plain": [
       "(100000, 9)"
      ]
     },
     "execution_count": 67,
     "metadata": {},
     "output_type": "execute_result"
    }
   ],
   "source": [
    "# Menampilkan bentuk (shape) dari dataset\n",
    "data.shape"
   ]
  },
  {
   "cell_type": "code",
   "execution_count": 68,
   "metadata": {
    "colab": {
     "base_uri": "https://localhost:8080/",
     "height": 0
    },
    "id": "GChhgPG75Kpe",
    "outputId": "b48a45c9-e291-411f-88e7-aa8f5ac06d98"
   },
   "outputs": [
    {
     "name": "stdout",
     "output_type": "stream",
     "text": [
      "<class 'pandas.core.frame.DataFrame'>\n",
      "RangeIndex: 100000 entries, 0 to 99999\n",
      "Data columns (total 9 columns):\n",
      " #   Column               Non-Null Count   Dtype  \n",
      "---  ------               --------------   -----  \n",
      " 0   gender               100000 non-null  object \n",
      " 1   age                  100000 non-null  float64\n",
      " 2   hypertension         100000 non-null  int64  \n",
      " 3   heart_disease        100000 non-null  int64  \n",
      " 4   smoking_history      100000 non-null  object \n",
      " 5   bmi                  100000 non-null  float64\n",
      " 6   HbA1c_level          100000 non-null  float64\n",
      " 7   blood_glucose_level  100000 non-null  int64  \n",
      " 8   diabetes             100000 non-null  int64  \n",
      "dtypes: float64(3), int64(4), object(2)\n",
      "memory usage: 6.9+ MB\n"
     ]
    }
   ],
   "source": [
    "# Melihat info dari dataset\n",
    "data.info()"
   ]
  },
  {
   "cell_type": "code",
   "execution_count": 69,
   "metadata": {
    "colab": {
     "base_uri": "https://localhost:8080/",
     "height": 0
    },
    "id": "SQOUxJWu_6wN",
    "outputId": "cff32e0d-cc17-4f10-b409-0a33001d80e7"
   },
   "outputs": [
    {
     "data": {
      "text/plain": [
       "np.int64(3854)"
      ]
     },
     "execution_count": 69,
     "metadata": {},
     "output_type": "execute_result"
    }
   ],
   "source": [
    "# Menghitung jumlah data yang duplikat\n",
    "data.duplicated().sum()"
   ]
  },
  {
   "cell_type": "code",
   "execution_count": 70,
   "metadata": {
    "id": "tK6Z3aap_9bN"
   },
   "outputs": [],
   "source": [
    "# Menghapus data duplikat dan mereset indek\n",
    "# Create by IBNU RICHO\n",
    "data = data.drop_duplicates(keep=\"last\").reset_index()"
   ]
  },
  {
   "cell_type": "code",
   "execution_count": 71,
   "metadata": {
    "colab": {
     "base_uri": "https://localhost:8080/",
     "height": 0
    },
    "id": "59boOFY-__nH",
    "outputId": "39010381-ddb6-4ee9-b3e7-6433d29049bf"
   },
   "outputs": [
    {
     "data": {
      "text/plain": [
       "np.int64(0)"
      ]
     },
     "execution_count": 71,
     "metadata": {},
     "output_type": "execute_result"
    }
   ],
   "source": [
    "# Jumlah duplikat setelah dihapus\n",
    "data.duplicated().sum()"
   ]
  },
  {
   "cell_type": "code",
   "execution_count": 72,
   "metadata": {
    "colab": {
     "base_uri": "https://localhost:8080/",
     "height": 0
    },
    "id": "mWSCWy6gAHlI",
    "outputId": "4afb03a1-ef0b-41ca-b1e3-6dee678457cd"
   },
   "outputs": [
    {
     "data": {
      "text/plain": [
       "(96146, 10)"
      ]
     },
     "execution_count": 72,
     "metadata": {},
     "output_type": "execute_result"
    }
   ],
   "source": [
    "# Menampilkan bentuk (shape) dari dataset setelah penghapusan duplikat\n",
    "data.shape"
   ]
  },
  {
   "cell_type": "code",
   "execution_count": 73,
   "metadata": {
    "colab": {
     "base_uri": "https://localhost:8080/",
     "height": 0
    },
    "id": "1IjS6OfKATTw",
    "outputId": "05c09993-4a3e-41aa-f442-0846d60da85b"
   },
   "outputs": [
    {
     "data": {
      "text/plain": [
       "Index(['index', 'gender', 'age', 'hypertension', 'heart_disease',\n",
       "       'smoking_history', 'bmi', 'HbA1c_level', 'blood_glucose_level',\n",
       "       'diabetes'],\n",
       "      dtype='object')"
      ]
     },
     "execution_count": 73,
     "metadata": {},
     "output_type": "execute_result"
    }
   ],
   "source": [
    "# Menampilkan nama kolom\n",
    "data.columns"
   ]
  },
  {
   "cell_type": "code",
   "execution_count": 74,
   "metadata": {
    "id": "KnX8pQtRAUay"
   },
   "outputs": [],
   "source": [
    "# Menghapus kolom 'index' yang tidak diperlukan\n",
    "data = data.drop(['index'],axis = 1)"
   ]
  },
  {
   "cell_type": "code",
   "execution_count": 75,
   "metadata": {
    "colab": {
     "base_uri": "https://localhost:8080/",
     "height": 0
    },
    "id": "-3BsqOpiAXLL",
    "outputId": "ef3ed2b9-9efd-471b-eb52-1da0b4cbea46"
   },
   "outputs": [
    {
     "data": {
      "text/plain": [
       "Index(['gender', 'age', 'hypertension', 'heart_disease', 'smoking_history',\n",
       "       'bmi', 'HbA1c_level', 'blood_glucose_level', 'diabetes'],\n",
       "      dtype='object')"
      ]
     },
     "execution_count": 75,
     "metadata": {},
     "output_type": "execute_result"
    }
   ],
   "source": [
    "data.columns"
   ]
  },
  {
   "cell_type": "code",
   "execution_count": 76,
   "metadata": {
    "colab": {
     "base_uri": "https://localhost:8080/",
     "height": 331
    },
    "id": "PO9Uq9dHAcHf",
    "outputId": "e02857df-aa56-49f6-b6e1-3ecdf536d8f7"
   },
   "outputs": [
    {
     "data": {
      "text/html": [
       "<div>\n",
       "<style scoped>\n",
       "    .dataframe tbody tr th:only-of-type {\n",
       "        vertical-align: middle;\n",
       "    }\n",
       "\n",
       "    .dataframe tbody tr th {\n",
       "        vertical-align: top;\n",
       "    }\n",
       "\n",
       "    .dataframe thead th {\n",
       "        text-align: right;\n",
       "    }\n",
       "</style>\n",
       "<table border=\"1\" class=\"dataframe\">\n",
       "  <thead>\n",
       "    <tr style=\"text-align: right;\">\n",
       "      <th></th>\n",
       "      <th>0</th>\n",
       "      <th>1</th>\n",
       "      <th>2</th>\n",
       "      <th>3</th>\n",
       "      <th>4</th>\n",
       "    </tr>\n",
       "  </thead>\n",
       "  <tbody>\n",
       "    <tr>\n",
       "      <th>gender</th>\n",
       "      <td>Female</td>\n",
       "      <td>Male</td>\n",
       "      <td>Female</td>\n",
       "      <td>Male</td>\n",
       "      <td>Female</td>\n",
       "    </tr>\n",
       "    <tr>\n",
       "      <th>age</th>\n",
       "      <td>80.0</td>\n",
       "      <td>28.0</td>\n",
       "      <td>36.0</td>\n",
       "      <td>76.0</td>\n",
       "      <td>20.0</td>\n",
       "    </tr>\n",
       "    <tr>\n",
       "      <th>hypertension</th>\n",
       "      <td>0</td>\n",
       "      <td>0</td>\n",
       "      <td>0</td>\n",
       "      <td>1</td>\n",
       "      <td>0</td>\n",
       "    </tr>\n",
       "    <tr>\n",
       "      <th>heart_disease</th>\n",
       "      <td>1</td>\n",
       "      <td>0</td>\n",
       "      <td>0</td>\n",
       "      <td>1</td>\n",
       "      <td>0</td>\n",
       "    </tr>\n",
       "    <tr>\n",
       "      <th>smoking_history</th>\n",
       "      <td>never</td>\n",
       "      <td>never</td>\n",
       "      <td>current</td>\n",
       "      <td>current</td>\n",
       "      <td>never</td>\n",
       "    </tr>\n",
       "    <tr>\n",
       "      <th>bmi</th>\n",
       "      <td>25.19</td>\n",
       "      <td>27.32</td>\n",
       "      <td>23.45</td>\n",
       "      <td>20.14</td>\n",
       "      <td>27.32</td>\n",
       "    </tr>\n",
       "    <tr>\n",
       "      <th>HbA1c_level</th>\n",
       "      <td>6.6</td>\n",
       "      <td>5.7</td>\n",
       "      <td>5.0</td>\n",
       "      <td>4.8</td>\n",
       "      <td>6.6</td>\n",
       "    </tr>\n",
       "    <tr>\n",
       "      <th>blood_glucose_level</th>\n",
       "      <td>140</td>\n",
       "      <td>158</td>\n",
       "      <td>155</td>\n",
       "      <td>155</td>\n",
       "      <td>85</td>\n",
       "    </tr>\n",
       "    <tr>\n",
       "      <th>diabetes</th>\n",
       "      <td>0</td>\n",
       "      <td>0</td>\n",
       "      <td>0</td>\n",
       "      <td>0</td>\n",
       "      <td>0</td>\n",
       "    </tr>\n",
       "  </tbody>\n",
       "</table>\n",
       "</div>"
      ],
      "text/plain": [
       "                          0      1        2        3       4\n",
       "gender               Female   Male   Female     Male  Female\n",
       "age                    80.0   28.0     36.0     76.0    20.0\n",
       "hypertension              0      0        0        1       0\n",
       "heart_disease             1      0        0        1       0\n",
       "smoking_history       never  never  current  current   never\n",
       "bmi                   25.19  27.32    23.45    20.14   27.32\n",
       "HbA1c_level             6.6    5.7      5.0      4.8     6.6\n",
       "blood_glucose_level     140    158      155      155      85\n",
       "diabetes                  0      0        0        0       0"
      ]
     },
     "execution_count": 76,
     "metadata": {},
     "output_type": "execute_result"
    }
   ],
   "source": [
    "# Melihat beberapa baris pertama setelah pra-pemrosesan\n",
    "data.head(5).T"
   ]
  },
  {
   "cell_type": "code",
   "execution_count": 77,
   "metadata": {
    "id": "eFaO-sH85V0V"
   },
   "outputs": [
    {
     "name": "stderr",
     "output_type": "stream",
     "text": [
      "C:\\Users\\pelic\\AppData\\Local\\Temp\\ipykernel_3304\\3938110978.py:2: FutureWarning: Downcasting behavior in `replace` is deprecated and will be removed in a future version. To retain the old behavior, explicitly call `result.infer_objects(copy=False)`. To opt-in to the future behavior, set `pd.set_option('future.no_silent_downcasting', True)`\n",
      "  data['gender'] = data['gender'].replace({'Female': 0, 'Male': 1, 'Other': 2})\n",
      "C:\\Users\\pelic\\AppData\\Local\\Temp\\ipykernel_3304\\3938110978.py:3: FutureWarning: Downcasting behavior in `replace` is deprecated and will be removed in a future version. To retain the old behavior, explicitly call `result.infer_objects(copy=False)`. To opt-in to the future behavior, set `pd.set_option('future.no_silent_downcasting', True)`\n",
      "  data['smoking_history'] = data['smoking_history'].replace({'No Info': 0, 'never': 1, 'former': 2, 'current': 3, 'not current': 4, 'ever':5})\n"
     ]
    }
   ],
   "source": [
    "# Pra-pemrosesan data\n",
    "data['gender'] = data['gender'].replace({'Female': 0, 'Male': 1, 'Other': 2})\n",
    "data['smoking_history'] = data['smoking_history'].replace({'No Info': 0, 'never': 1, 'former': 2, 'current': 3, 'not current': 4, 'ever':5})"
   ]
  },
  {
   "cell_type": "code",
   "execution_count": 84,
   "metadata": {},
   "outputs": [
    {
     "data": {
      "text/html": [
       "<div>\n",
       "<style scoped>\n",
       "    .dataframe tbody tr th:only-of-type {\n",
       "        vertical-align: middle;\n",
       "    }\n",
       "\n",
       "    .dataframe tbody tr th {\n",
       "        vertical-align: top;\n",
       "    }\n",
       "\n",
       "    .dataframe thead th {\n",
       "        text-align: right;\n",
       "    }\n",
       "</style>\n",
       "<table border=\"1\" class=\"dataframe\">\n",
       "  <thead>\n",
       "    <tr style=\"text-align: right;\">\n",
       "      <th></th>\n",
       "      <th>gender</th>\n",
       "      <th>age</th>\n",
       "      <th>hypertension</th>\n",
       "      <th>heart_disease</th>\n",
       "      <th>smoking_history</th>\n",
       "      <th>bmi</th>\n",
       "      <th>HbA1c_level</th>\n",
       "      <th>blood_glucose_level</th>\n",
       "      <th>diabetes</th>\n",
       "    </tr>\n",
       "  </thead>\n",
       "  <tbody>\n",
       "    <tr>\n",
       "      <th>0</th>\n",
       "      <td>0</td>\n",
       "      <td>80.0</td>\n",
       "      <td>0</td>\n",
       "      <td>1</td>\n",
       "      <td>1</td>\n",
       "      <td>25.19</td>\n",
       "      <td>6.6</td>\n",
       "      <td>140</td>\n",
       "      <td>0</td>\n",
       "    </tr>\n",
       "    <tr>\n",
       "      <th>1</th>\n",
       "      <td>1</td>\n",
       "      <td>28.0</td>\n",
       "      <td>0</td>\n",
       "      <td>0</td>\n",
       "      <td>1</td>\n",
       "      <td>27.32</td>\n",
       "      <td>5.7</td>\n",
       "      <td>158</td>\n",
       "      <td>0</td>\n",
       "    </tr>\n",
       "    <tr>\n",
       "      <th>2</th>\n",
       "      <td>0</td>\n",
       "      <td>36.0</td>\n",
       "      <td>0</td>\n",
       "      <td>0</td>\n",
       "      <td>3</td>\n",
       "      <td>23.45</td>\n",
       "      <td>5.0</td>\n",
       "      <td>155</td>\n",
       "      <td>0</td>\n",
       "    </tr>\n",
       "    <tr>\n",
       "      <th>3</th>\n",
       "      <td>1</td>\n",
       "      <td>76.0</td>\n",
       "      <td>1</td>\n",
       "      <td>1</td>\n",
       "      <td>3</td>\n",
       "      <td>20.14</td>\n",
       "      <td>4.8</td>\n",
       "      <td>155</td>\n",
       "      <td>0</td>\n",
       "    </tr>\n",
       "    <tr>\n",
       "      <th>4</th>\n",
       "      <td>0</td>\n",
       "      <td>20.0</td>\n",
       "      <td>0</td>\n",
       "      <td>0</td>\n",
       "      <td>1</td>\n",
       "      <td>27.32</td>\n",
       "      <td>6.6</td>\n",
       "      <td>85</td>\n",
       "      <td>0</td>\n",
       "    </tr>\n",
       "  </tbody>\n",
       "</table>\n",
       "</div>"
      ],
      "text/plain": [
       "   gender   age  hypertension  heart_disease  smoking_history    bmi  \\\n",
       "0       0  80.0             0              1                1  25.19   \n",
       "1       1  28.0             0              0                1  27.32   \n",
       "2       0  36.0             0              0                3  23.45   \n",
       "3       1  76.0             1              1                3  20.14   \n",
       "4       0  20.0             0              0                1  27.32   \n",
       "\n",
       "   HbA1c_level  blood_glucose_level  diabetes  \n",
       "0          6.6                  140         0  \n",
       "1          5.7                  158         0  \n",
       "2          5.0                  155         0  \n",
       "3          4.8                  155         0  \n",
       "4          6.6                   85         0  "
      ]
     },
     "execution_count": 84,
     "metadata": {},
     "output_type": "execute_result"
    }
   ],
   "source": [
    "data.head()"
   ]
  },
  {
   "cell_type": "code",
   "execution_count": 85,
   "metadata": {},
   "outputs": [
    {
     "data": {
      "text/html": [
       "<div>\n",
       "<style scoped>\n",
       "    .dataframe tbody tr th:only-of-type {\n",
       "        vertical-align: middle;\n",
       "    }\n",
       "\n",
       "    .dataframe tbody tr th {\n",
       "        vertical-align: top;\n",
       "    }\n",
       "\n",
       "    .dataframe thead th {\n",
       "        text-align: right;\n",
       "    }\n",
       "</style>\n",
       "<table border=\"1\" class=\"dataframe\">\n",
       "  <thead>\n",
       "    <tr style=\"text-align: right;\">\n",
       "      <th></th>\n",
       "      <th>gender</th>\n",
       "      <th>age</th>\n",
       "      <th>hypertension</th>\n",
       "      <th>heart_disease</th>\n",
       "      <th>smoking_history</th>\n",
       "      <th>bmi</th>\n",
       "      <th>HbA1c_level</th>\n",
       "      <th>blood_glucose_level</th>\n",
       "      <th>diabetes</th>\n",
       "    </tr>\n",
       "  </thead>\n",
       "  <tbody>\n",
       "    <tr>\n",
       "      <th>0</th>\n",
       "      <td>0</td>\n",
       "      <td>80.0</td>\n",
       "      <td>0</td>\n",
       "      <td>1</td>\n",
       "      <td>1</td>\n",
       "      <td>25.19</td>\n",
       "      <td>6.6</td>\n",
       "      <td>140</td>\n",
       "      <td>0</td>\n",
       "    </tr>\n",
       "    <tr>\n",
       "      <th>1</th>\n",
       "      <td>1</td>\n",
       "      <td>28.0</td>\n",
       "      <td>0</td>\n",
       "      <td>0</td>\n",
       "      <td>1</td>\n",
       "      <td>27.32</td>\n",
       "      <td>5.7</td>\n",
       "      <td>158</td>\n",
       "      <td>0</td>\n",
       "    </tr>\n",
       "    <tr>\n",
       "      <th>2</th>\n",
       "      <td>0</td>\n",
       "      <td>36.0</td>\n",
       "      <td>0</td>\n",
       "      <td>0</td>\n",
       "      <td>3</td>\n",
       "      <td>23.45</td>\n",
       "      <td>5.0</td>\n",
       "      <td>155</td>\n",
       "      <td>0</td>\n",
       "    </tr>\n",
       "    <tr>\n",
       "      <th>3</th>\n",
       "      <td>1</td>\n",
       "      <td>76.0</td>\n",
       "      <td>1</td>\n",
       "      <td>1</td>\n",
       "      <td>3</td>\n",
       "      <td>20.14</td>\n",
       "      <td>4.8</td>\n",
       "      <td>155</td>\n",
       "      <td>0</td>\n",
       "    </tr>\n",
       "    <tr>\n",
       "      <th>4</th>\n",
       "      <td>0</td>\n",
       "      <td>20.0</td>\n",
       "      <td>0</td>\n",
       "      <td>0</td>\n",
       "      <td>1</td>\n",
       "      <td>27.32</td>\n",
       "      <td>6.6</td>\n",
       "      <td>85</td>\n",
       "      <td>0</td>\n",
       "    </tr>\n",
       "    <tr>\n",
       "      <th>...</th>\n",
       "      <td>...</td>\n",
       "      <td>...</td>\n",
       "      <td>...</td>\n",
       "      <td>...</td>\n",
       "      <td>...</td>\n",
       "      <td>...</td>\n",
       "      <td>...</td>\n",
       "      <td>...</td>\n",
       "      <td>...</td>\n",
       "    </tr>\n",
       "    <tr>\n",
       "      <th>96141</th>\n",
       "      <td>0</td>\n",
       "      <td>80.0</td>\n",
       "      <td>0</td>\n",
       "      <td>0</td>\n",
       "      <td>0</td>\n",
       "      <td>27.32</td>\n",
       "      <td>6.2</td>\n",
       "      <td>90</td>\n",
       "      <td>0</td>\n",
       "    </tr>\n",
       "    <tr>\n",
       "      <th>96142</th>\n",
       "      <td>0</td>\n",
       "      <td>2.0</td>\n",
       "      <td>0</td>\n",
       "      <td>0</td>\n",
       "      <td>0</td>\n",
       "      <td>17.37</td>\n",
       "      <td>6.5</td>\n",
       "      <td>100</td>\n",
       "      <td>0</td>\n",
       "    </tr>\n",
       "    <tr>\n",
       "      <th>96143</th>\n",
       "      <td>1</td>\n",
       "      <td>66.0</td>\n",
       "      <td>0</td>\n",
       "      <td>0</td>\n",
       "      <td>2</td>\n",
       "      <td>27.83</td>\n",
       "      <td>5.7</td>\n",
       "      <td>155</td>\n",
       "      <td>0</td>\n",
       "    </tr>\n",
       "    <tr>\n",
       "      <th>96144</th>\n",
       "      <td>0</td>\n",
       "      <td>24.0</td>\n",
       "      <td>0</td>\n",
       "      <td>0</td>\n",
       "      <td>1</td>\n",
       "      <td>35.42</td>\n",
       "      <td>4.0</td>\n",
       "      <td>100</td>\n",
       "      <td>0</td>\n",
       "    </tr>\n",
       "    <tr>\n",
       "      <th>96145</th>\n",
       "      <td>0</td>\n",
       "      <td>57.0</td>\n",
       "      <td>0</td>\n",
       "      <td>0</td>\n",
       "      <td>3</td>\n",
       "      <td>22.43</td>\n",
       "      <td>6.6</td>\n",
       "      <td>90</td>\n",
       "      <td>0</td>\n",
       "    </tr>\n",
       "  </tbody>\n",
       "</table>\n",
       "<p>96146 rows × 9 columns</p>\n",
       "</div>"
      ],
      "text/plain": [
       "       gender   age  hypertension  heart_disease  smoking_history    bmi  \\\n",
       "0           0  80.0             0              1                1  25.19   \n",
       "1           1  28.0             0              0                1  27.32   \n",
       "2           0  36.0             0              0                3  23.45   \n",
       "3           1  76.0             1              1                3  20.14   \n",
       "4           0  20.0             0              0                1  27.32   \n",
       "...       ...   ...           ...            ...              ...    ...   \n",
       "96141       0  80.0             0              0                0  27.32   \n",
       "96142       0   2.0             0              0                0  17.37   \n",
       "96143       1  66.0             0              0                2  27.83   \n",
       "96144       0  24.0             0              0                1  35.42   \n",
       "96145       0  57.0             0              0                3  22.43   \n",
       "\n",
       "       HbA1c_level  blood_glucose_level  diabetes  \n",
       "0              6.6                  140         0  \n",
       "1              5.7                  158         0  \n",
       "2              5.0                  155         0  \n",
       "3              4.8                  155         0  \n",
       "4              6.6                   85         0  \n",
       "...            ...                  ...       ...  \n",
       "96141          6.2                   90         0  \n",
       "96142          6.5                  100         0  \n",
       "96143          5.7                  155         0  \n",
       "96144          4.0                  100         0  \n",
       "96145          6.6                   90         0  \n",
       "\n",
       "[96146 rows x 9 columns]"
      ]
     },
     "execution_count": 85,
     "metadata": {},
     "output_type": "execute_result"
    }
   ],
   "source": [
    "data"
   ]
  },
  {
   "cell_type": "code",
   "execution_count": 78,
   "metadata": {
    "id": "D2ZUDDpE6iLA"
   },
   "outputs": [],
   "source": [
    "# Memisahkan variabel prediktor (X) dan target (y)\n",
    "X = np.array(data.drop(['diabetes'], axis = 1))\n",
    "y = data['diabetes']"
   ]
  },
  {
   "cell_type": "code",
   "execution_count": 79,
   "metadata": {
    "id": "amxAIGPC-R8S"
   },
   "outputs": [],
   "source": [
    "# Menerapkan validasi silang bertingkat (StratifiedKFold)\n",
    "skf = StratifiedKFold(n_splits=10, shuffle=True, random_state=1)\n",
    "\n",
    "# Fungsi untuk mengevaluasi model\n",
    "def evaluasi_model(model, X_test, y_test):\n",
    "    y_pred = model.predict(X_test)\n",
    "    akurasi = accuracy_score(y_test, y_pred)\n",
    "    presisi = precision_score(y_test, y_pred)\n",
    "    recall = recall_score(y_test, y_pred)\n",
    "    f1 = f1_score(y_test, y_pred)\n",
    "    cm = confusion_matrix(y_test, y_pred)\n",
    "    return akurasi, presisi, recall, f1, cm\n",
    "\n",
    "# Menyimpan metrik untuk model\n",
    "jst_metrics_list = []\n",
    "\n",
    "# Iterasi melalui setiap lipatan dalam validasi silang\n",
    "for train_index, test_index in skf.split(X, y):\n",
    "    X_train, X_test = X[train_index], X[test_index]\n",
    "    y_train, y_test = y[train_index], y[test_index]"
   ]
  },
  {
   "cell_type": "code",
   "execution_count": 80,
   "metadata": {
    "colab": {
     "base_uri": "https://localhost:8080/",
     "height": 0
    },
    "id": "lr9slCTm61VS",
    "outputId": "26eff206-405f-4111-9a72-6c050cc75916"
   },
   "outputs": [
    {
     "name": "stdout",
     "output_type": "stream",
     "text": [
      "Iteration 1, loss = 0.48809399\n",
      "Iteration 2, loss = 0.25644697\n",
      "Iteration 3, loss = 0.23045669\n",
      "Iteration 4, loss = 0.20507410\n",
      "Iteration 5, loss = 0.18492293\n",
      "Iteration 6, loss = 0.16407295\n",
      "Iteration 7, loss = 0.15266543\n",
      "Iteration 8, loss = 0.14235836\n",
      "Iteration 9, loss = 0.13577128\n",
      "Iteration 10, loss = 0.13621577\n",
      "Iteration 11, loss = 0.12926059\n",
      "Iteration 12, loss = 0.12603184\n",
      "Iteration 13, loss = 0.12817387\n",
      "Iteration 14, loss = 0.12139313\n",
      "Iteration 15, loss = 0.12463631\n",
      "Iteration 16, loss = 0.12490605\n",
      "Iteration 17, loss = 0.12097107\n",
      "Iteration 18, loss = 0.11877357\n",
      "Iteration 19, loss = 0.12136975\n",
      "Iteration 20, loss = 0.11870861\n",
      "Iteration 21, loss = 0.11811821\n",
      "Iteration 22, loss = 0.11737087\n",
      "Iteration 23, loss = 0.12019056\n",
      "Iteration 24, loss = 0.11724562\n",
      "Iteration 25, loss = 0.11690847\n",
      "Iteration 26, loss = 0.12035001\n",
      "Iteration 27, loss = 0.11595858\n",
      "Iteration 28, loss = 0.11628511\n",
      "Iteration 29, loss = 0.11656139\n",
      "Iteration 30, loss = 0.11437752\n",
      "Iteration 31, loss = 0.11514290\n",
      "Iteration 32, loss = 0.11421553\n",
      "Iteration 33, loss = 0.11359651\n",
      "Iteration 34, loss = 0.11581255\n",
      "Iteration 35, loss = 0.11488279\n",
      "Iteration 36, loss = 0.11637100\n",
      "Iteration 37, loss = 0.11447461\n",
      "Iteration 38, loss = 0.11310625\n",
      "Iteration 39, loss = 0.11622468\n",
      "Iteration 40, loss = 0.11235636\n",
      "Iteration 41, loss = 0.11136871\n",
      "Iteration 42, loss = 0.11522135\n",
      "Iteration 43, loss = 0.11571966\n",
      "Iteration 44, loss = 0.11483693\n",
      "Iteration 45, loss = 0.11083084\n",
      "Iteration 46, loss = 0.11366210\n",
      "Iteration 47, loss = 0.11312155\n",
      "Iteration 48, loss = 0.11285598\n",
      "Iteration 49, loss = 0.10962567\n",
      "Iteration 50, loss = 0.11311745\n",
      "Iteration 51, loss = 0.11225256\n",
      "Iteration 52, loss = 0.11036242\n",
      "Iteration 53, loss = 0.11233278\n",
      "Iteration 54, loss = 0.11355252\n",
      "Iteration 55, loss = 0.11177883\n",
      "Iteration 56, loss = 0.11069615\n",
      "Iteration 57, loss = 0.11131941\n",
      "Iteration 58, loss = 0.11148214\n",
      "Iteration 59, loss = 0.11029146\n",
      "Iteration 60, loss = 0.11127736\n",
      "Training loss did not improve more than tol=0.000100 for 10 consecutive epochs. Stopping.\n"
     ]
    }
   ],
   "source": [
    " # Menerapkan model JST (MLPClassifier)\n",
    "jst = MLPClassifier(random_state=42, max_iter=1000, verbose=True)\n",
    "\n",
    "# Pelatihan model\n",
    "jst.fit(X_train, y_train)\n",
    "\n",
    "# Melakukan prediksi dan menyimpan metrik\n",
    "jst_metrics_list.append(evaluasi_model(jst, X_test, y_test))"
   ]
  },
  {
   "cell_type": "code",
   "execution_count": 81,
   "metadata": {
    "id": "BHGdK_-C7Sfv"
   },
   "outputs": [],
   "source": [
    "# Fungsi untuk menghitung rata-rata metrik untuk setiap model\n",
    "def rata_rata_metrik(metrik_list):\n",
    "    akurasi = np.mean([m[0] for m in metrik_list])\n",
    "    presisi = np.mean([m[1] for m in metrik_list])\n",
    "    recall = np.mean([m[2] for m in metrik_list])\n",
    "    f1 = np.mean([m[3] for m in metrik_list])\n",
    "    cm = np.mean([m[4] for m in metrik_list], axis=0)\n",
    "    return akurasi, presisi, recall, f1, cm\n",
    "\n",
    "# Menghitung rata-rata metrik JST\n",
    "jst_metrics = rata_rata_metrik(jst_metrics_list)"
   ]
  },
  {
   "cell_type": "code",
   "execution_count": 82,
   "metadata": {
    "colab": {
     "base_uri": "https://localhost:8080/",
     "height": 0
    },
    "id": "T8VpvNTC_GC2",
    "outputId": "40601223-3ce9-4202-ff1c-2bd509b5b434"
   },
   "outputs": [
    {
     "name": "stdout",
     "output_type": "stream",
     "text": [
      "Neural Network (JST):\n",
      "1. Akurasi: 0.9573538589556896\n",
      "2. Presisi: 0.9802631578947368\n",
      "3. Recall: 0.527122641509434\n",
      "4. F1 Score: 0.6855828220858896\n"
     ]
    }
   ],
   "source": [
    "# Cetak Metrik JST\n",
    "print(\"Neural Network (JST):\")\n",
    "print(f\"1. Akurasi: {jst_metrics[0]}\")\n",
    "print(f\"2. Presisi: {jst_metrics[1]}\")\n",
    "print(f\"3. Recall: {jst_metrics[2]}\")\n",
    "print(f\"4. F1 Score: {jst_metrics[3]}\")"
   ]
  },
  {
   "cell_type": "code",
   "execution_count": 83,
   "metadata": {
    "id": "iD0nUf37_IaC"
   },
   "outputs": [],
   "source": [
    "# Menyimpan model yang telah dilatih ke dalam file\n",
    "filename = 'diabetes-model.sav'\n",
    "pickle.dump(jst, open(filename, 'wb'))"
   ]
  }
 ],
 "metadata": {
  "colab": {
   "provenance": []
  },
  "kernelspec": {
   "display_name": "Python 3 (ipykernel)",
   "language": "python",
   "name": "python3"
  },
  "language_info": {
   "codemirror_mode": {
    "name": "ipython",
    "version": 3
   },
   "file_extension": ".py",
   "mimetype": "text/x-python",
   "name": "python",
   "nbconvert_exporter": "python",
   "pygments_lexer": "ipython3",
   "version": "3.12.6"
  }
 },
 "nbformat": 4,
 "nbformat_minor": 4
}
