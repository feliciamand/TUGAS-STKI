{
 "cells": [
  {
   "cell_type": "code",
   "execution_count": null,
   "id": "457207b8-db0f-42bd-b2af-dbed855deb44",
   "metadata": {},
   "outputs": [],
   "source": []
  }
 ],
 "metadata": {
  "kernelspec": {
   "display_name": "",
   "name": ""
  },
  "language_info": {
   "name": ""
  }
 },
 "nbformat": 4,
 "nbformat_minor": 5
}
